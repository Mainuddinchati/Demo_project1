{
  "nbformat": 4,
  "nbformat_minor": 0,
  "metadata": {
    "colab": {
      "private_outputs": true,
      "provenance": [],
      "authorship_tag": "ABX9TyMqFncLF1JCd4EZz+I0k8EJ",
      "include_colab_link": true
    },
    "kernelspec": {
      "name": "python3",
      "display_name": "Python 3"
    },
    "language_info": {
      "name": "python"
    }
  },
  "cells": [
    {
      "cell_type": "markdown",
      "metadata": {
        "id": "view-in-github",
        "colab_type": "text"
      },
      "source": [
        "<a href=\"https://colab.research.google.com/github/Mainuddinchati/Demo_project1/blob/main/Retail_sales.ipynb\" target=\"_parent\"><img src=\"https://colab.research.google.com/assets/colab-badge.svg\" alt=\"Open In Colab\"/></a>"
      ]
    },
    {
      "cell_type": "markdown",
      "source": [
        "# **Retail sales**"
      ],
      "metadata": {
        "id": "sCdqv9iSSbYk"
      }
    },
    {
      "cell_type": "markdown",
      "source": [
        "**1.Load and Inspect the Dataset**"
      ],
      "metadata": {
        "id": "IT6na6o5SrQA"
      }
    },
    {
      "cell_type": "code",
      "execution_count": null,
      "metadata": {
        "id": "2Sk7cV1apBdA"
      },
      "outputs": [],
      "source": [
        "import numpy as np\n",
        "import pandas as pd"
      ]
    },
    {
      "cell_type": "code",
      "source": [
        "df=pd.read_csv('/content/retailsales.csv.csv')"
      ],
      "metadata": {
        "id": "RAdklZBipQRE"
      },
      "execution_count": null,
      "outputs": []
    },
    {
      "cell_type": "code",
      "source": [
        "df"
      ],
      "metadata": {
        "id": "FKVPygQ7pZPf"
      },
      "execution_count": null,
      "outputs": []
    },
    {
      "cell_type": "code",
      "source": [
        "df.head()"
      ],
      "metadata": {
        "id": "yzcn7BZkplX8"
      },
      "execution_count": null,
      "outputs": []
    },
    {
      "cell_type": "code",
      "source": [
        "df.info()"
      ],
      "metadata": {
        "id": "dQSgpB2DS3B4"
      },
      "execution_count": null,
      "outputs": []
    },
    {
      "cell_type": "code",
      "source": [
        "df.describe()"
      ],
      "metadata": {
        "id": "-wsoQyhSS5c_"
      },
      "execution_count": null,
      "outputs": []
    },
    {
      "cell_type": "markdown",
      "source": [
        "**2.Data Cleaning**"
      ],
      "metadata": {
        "id": "xw_-RSRlTbYl"
      }
    },
    {
      "cell_type": "code",
      "source": [
        "df.isnull().sum()\n"
      ],
      "metadata": {
        "id": "3Mx5rheCVIem"
      },
      "execution_count": null,
      "outputs": []
    },
    {
      "cell_type": "code",
      "source": [
        "df.duplicated().sum()\n"
      ],
      "metadata": {
        "id": "Z1Et4fg3WJVc"
      },
      "execution_count": null,
      "outputs": []
    },
    {
      "cell_type": "code",
      "source": [
        "df.drop_duplicates(inplace=True)\n"
      ],
      "metadata": {
        "id": "ZSgusHEeWMBM"
      },
      "execution_count": null,
      "outputs": []
    },
    {
      "cell_type": "code",
      "source": [
        "df['Date']=pd.to_datetime(df['Date'])"
      ],
      "metadata": {
        "id": "WYb89dGbWPNI"
      },
      "execution_count": null,
      "outputs": []
    },
    {
      "cell_type": "code",
      "source": [
        "df.info()"
      ],
      "metadata": {
        "id": "RYdWFNVgWhz2"
      },
      "execution_count": null,
      "outputs": []
    },
    {
      "cell_type": "code",
      "source": [
        "df['Revenue']=df['Quantity']*df['Price per Unit']"
      ],
      "metadata": {
        "id": "6n4GqX5xWmAC"
      },
      "execution_count": null,
      "outputs": []
    },
    {
      "cell_type": "code",
      "source": [
        "print(df['Revenue'])"
      ],
      "metadata": {
        "id": "7gP0QgX_W3SB"
      },
      "execution_count": null,
      "outputs": []
    },
    {
      "cell_type": "markdown",
      "source": [
        "# **3.Exploratory Data Analysis(EDA)**"
      ],
      "metadata": {
        "id": "c_G-Bd70XOTY"
      }
    },
    {
      "cell_type": "code",
      "source": [
        "df.set_index('Date').resample('M')['Total Amount'].sum().plot(kind='line', title='Total Sales Over Time')\n"
      ],
      "metadata": {
        "id": "3bUsZoFcXJcf"
      },
      "execution_count": null,
      "outputs": []
    },
    {
      "cell_type": "code",
      "source": [
        "df.groupby('Product Category')['Total Amount'].sum().plot(kind='bar', title='Sales by Product Category')\n"
      ],
      "metadata": {
        "id": "OXCDHeTIXgaR"
      },
      "execution_count": null,
      "outputs": []
    },
    {
      "cell_type": "code",
      "source": [
        "top_customers = df.groupby('Customer ID')['Total Amount'].sum().sort_values(ascending=False).head(10)\n"
      ],
      "metadata": {
        "id": "WY5q2pBJXpdd"
      },
      "execution_count": null,
      "outputs": []
    },
    {
      "cell_type": "code",
      "source": [
        "print(top_customers)"
      ],
      "metadata": {
        "id": "fYgDXJFKXvhg"
      },
      "execution_count": null,
      "outputs": []
    },
    {
      "cell_type": "code",
      "source": [
        "df['Gender'].value_counts().plot(kind='pie', autopct='%1.1f%%', title='Customer Gender Distribution')\n"
      ],
      "metadata": {
        "id": "LH7ansz6X1Gk"
      },
      "execution_count": null,
      "outputs": []
    },
    {
      "cell_type": "code",
      "source": [
        "df['Age'].plot(kind='hist', bins=10, title='Customer Age Distribution')\n"
      ],
      "metadata": {
        "id": "PcOQyPBOX6v1"
      },
      "execution_count": null,
      "outputs": []
    },
    {
      "cell_type": "code",
      "source": [
        "bins = [20, 30, 40, 50, 60, 70]\n",
        "labels = ['20-30', '30-40', '40-50', '50-60', '60-70']\n",
        "df['Age Group'] = pd.cut(df['Age'], bins=bins, labels=labels)\n",
        "df.groupby('Age Group')['Total Amount'].sum().plot(kind='bar', title='Sales by Age Group')\n"
      ],
      "metadata": {
        "id": "lDDUIaGqX-_x"
      },
      "execution_count": null,
      "outputs": []
    },
    {
      "cell_type": "code",
      "source": [
        "top_products = df.groupby('Product Category')['Quantity'].sum().sort_values(ascending=False)\n"
      ],
      "metadata": {
        "id": "brNTQXf9YDQv"
      },
      "execution_count": null,
      "outputs": []
    },
    {
      "cell_type": "code",
      "source": [
        "print(top_products)"
      ],
      "metadata": {
        "id": "EnNQjeVjYIAB"
      },
      "execution_count": null,
      "outputs": []
    },
    {
      "cell_type": "code",
      "source": [
        "df['Quantity'].plot(kind='hist', bins=10, title='Quantity Distribution per Transaction')\n"
      ],
      "metadata": {
        "id": "d-0qMCJQYLzY"
      },
      "execution_count": null,
      "outputs": []
    },
    {
      "cell_type": "markdown",
      "source": [
        "## **4.Time Series Analysis**"
      ],
      "metadata": {
        "id": "NI-Eoxa4YT3J"
      }
    },
    {
      "cell_type": "code",
      "source": [
        "df.set_index('Date').resample('M')['Total Amount'].sum().plot(title='Monthly Sales Trend')\n"
      ],
      "metadata": {
        "id": "zttSnNOnYQNs"
      },
      "execution_count": null,
      "outputs": []
    },
    {
      "cell_type": "code",
      "source": [
        "import matplotlib.pyplot as plt\n",
        "\n",
        "\n",
        "df.set_index('Date')['Total Amount'].groupby(pd.Grouper(freq='M')).sum().plot(kind='bar', title='Sales by Month')"
      ],
      "metadata": {
        "id": "nh1IceGdZJO8"
      },
      "execution_count": null,
      "outputs": []
    },
    {
      "cell_type": "markdown",
      "source": [
        "# **5.Customer Segmentation**"
      ],
      "metadata": {
        "id": "hvGcTDK0aq7g"
      }
    },
    {
      "cell_type": "code",
      "source": [
        "# Recency\n",
        "latest_date = df['Date'].max()\n",
        "recency = df.groupby('Customer ID')['Date'].apply(lambda x: (latest_date - x.max()).days)\n",
        "\n",
        "# Frequency\n",
        "frequency = df.groupby('Customer ID')['Transaction ID'].count()\n",
        "\n",
        "# Monetary\n",
        "monetary = df.groupby('Customer ID')['Total Amount'].sum()\n",
        "\n",
        "# Combine RFM metrics\n",
        "rfm = pd.DataFrame({'Recency': recency, 'Frequency': frequency, 'Monetary': monetary})\n"
      ],
      "metadata": {
        "id": "N5hBWUlUaYMM"
      },
      "execution_count": null,
      "outputs": []
    },
    {
      "cell_type": "code",
      "source": [
        "print(recency)"
      ],
      "metadata": {
        "id": "ds1CgXgKa-jn"
      },
      "execution_count": null,
      "outputs": []
    },
    {
      "cell_type": "code",
      "source": [
        "print(frequency)"
      ],
      "metadata": {
        "id": "N51UirqkbROE"
      },
      "execution_count": null,
      "outputs": []
    },
    {
      "cell_type": "code",
      "source": [
        "print(monetary)"
      ],
      "metadata": {
        "id": "fnv7v6AgbcO3"
      },
      "execution_count": null,
      "outputs": []
    },
    {
      "cell_type": "code",
      "source": [
        "print(rfm)"
      ],
      "metadata": {
        "id": "rHXUSKhxbk64"
      },
      "execution_count": null,
      "outputs": []
    },
    {
      "cell_type": "markdown",
      "source": [
        "# **6.Market Basket Analysis**"
      ],
      "metadata": {
        "id": "NI3DxZQvb1Q_"
      }
    },
    {
      "cell_type": "code",
      "source": [
        "from mlxtend.frequent_patterns import apriori, association_rules\n",
        "\n",
        "basket = df.pivot_table(index='Transaction ID', columns='Product Category', values='Quantity', aggfunc='sum', fill_value=0)\n",
        "\n",
        "basket = basket.applymap(lambda x: 1 if x > 0 else 0)\n",
        "\n",
        "frequent_itemsets = apriori(basket, min_support=0.05, use_colnames=True)\n",
        "\n",
        "rules = association_rules(frequent_itemsets, metric=\"lift\", min_threshold=1)\n",
        "rules.head()"
      ],
      "metadata": {
        "id": "7U0U79ELbub4"
      },
      "execution_count": null,
      "outputs": []
    },
    {
      "cell_type": "code",
      "source": [
        "print(basket)"
      ],
      "metadata": {
        "id": "8Z3Nvg2DcDB7"
      },
      "execution_count": null,
      "outputs": []
    },
    {
      "cell_type": "code",
      "source": [
        "print(frequent_itemsets)"
      ],
      "metadata": {
        "id": "w3qlYt7Ocadp"
      },
      "execution_count": null,
      "outputs": []
    },
    {
      "cell_type": "code",
      "source": [
        "print(rules)"
      ],
      "metadata": {
        "id": "Er2ca7GUcgXm"
      },
      "execution_count": null,
      "outputs": []
    },
    {
      "cell_type": "code",
      "source": [
        "rules.head()"
      ],
      "metadata": {
        "id": "shtORY8KcnXD"
      },
      "execution_count": null,
      "outputs": []
    },
    {
      "cell_type": "markdown",
      "source": [
        "# **7.Sales Forecasting**"
      ],
      "metadata": {
        "id": "PmNN-ix_c0iY"
      }
    },
    {
      "cell_type": "code",
      "source": [
        "!pip install prophet\n",
        "from prophet import Prophet\n",
        "\n",
        "df_forecast = df[['Date', 'Total Amount']].rename(columns={'Date': 'ds', 'Total Amount': 'y'})\n",
        "\n",
        "model = Prophet()\n",
        "model.fit(df_forecast)\n",
        "\n",
        "future = model.make_future_dataframe(periods=90)\n",
        "forecast = model.predict(future)\n",
        "model.plot(forecast)"
      ],
      "metadata": {
        "id": "8h4ElaLIdD7c"
      },
      "execution_count": null,
      "outputs": []
    },
    {
      "cell_type": "code",
      "source": [],
      "metadata": {
        "id": "A_HRbqUtd2fL"
      },
      "execution_count": null,
      "outputs": []
    }
  ]
}